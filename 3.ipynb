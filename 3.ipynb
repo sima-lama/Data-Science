{
 "cells": [
  {
   "cell_type": "raw",
   "id": "173a456b-b32c-4cbe-ab91-2355d555c673",
   "metadata": {},
   "source": [
    "list compreshension"
   ]
  },
  {
   "cell_type": "code",
   "execution_count": 1,
   "id": "d773071f-aca1-4eb3-bb28-f008681bb70c",
   "metadata": {},
   "outputs": [
    {
     "name": "stdout",
     "output_type": "stream",
     "text": [
      "[4, 7]\n"
     ]
    }
   ],
   "source": [
    "word = ['data', 'machine'] \n",
    "length = [len(each) for each in word]\n",
    "print(length)"
   ]
  },
  {
   "cell_type": "code",
   "execution_count": 2,
   "id": "43d09a2a-9926-423d-bfb0-9170f07c0915",
   "metadata": {},
   "outputs": [
    {
     "name": "stdout",
     "output_type": "stream",
     "text": [
      "[4, 7]\n"
     ]
    }
   ],
   "source": [
    "# usual way\n",
    "word = ['data', 'machine'] \n",
    "result =[]\n",
    "for each in word:\n",
    "   result.append(len(each))\n",
    "print(length)"
   ]
  },
  {
   "cell_type": "code",
   "execution_count": 3,
   "id": "87b5b826-8388-4950-9da4-ac3725f756b0",
   "metadata": {},
   "outputs": [
    {
     "name": "stdout",
     "output_type": "stream",
     "text": [
      "[2, 4, 6, 8]\n"
     ]
    }
   ],
   "source": [
    "list = [-2, -1, 0, 1, 2, 3, 4]\n",
    "double = [(num *2) for num in list if num > 0 ] \n",
    "print(double)"
   ]
  },
  {
   "cell_type": "code",
   "execution_count": 11,
   "id": "2266533b-62ab-45d4-9a57-ac7e0decb887",
   "metadata": {},
   "outputs": [
    {
     "name": "stdout",
     "output_type": "stream",
     "text": [
      "{'data': 4, 'science': 7, 'machine': 7}\n"
     ]
    }
   ],
   "source": [
    "words= ['data','science','machine']\n",
    "length = {word:len(word) for word in words}\n",
    "print(length)"
   ]
  },
  {
   "cell_type": "code",
   "execution_count": 14,
   "id": "c2aa8c17-bfed-41b1-b58d-b7c403fc4346",
   "metadata": {},
   "outputs": [
    {
     "name": "stdout",
     "output_type": "stream",
     "text": [
      "{'science': 7, 'machine': 7, 'learning': 8, 'python': 6}\n"
     ]
    }
   ],
   "source": [
    "list=['data','science','machine','learning']\n",
    "word={list:len(list) for list in word if len(list)>=5}\n",
    "print(word)"
   ]
  },
  {
   "cell_type": "code",
   "execution_count": 29,
   "id": "3489609e-cc73-4330-b099-8f933f7048fa",
   "metadata": {},
   "outputs": [
    {
     "name": "stdout",
     "output_type": "stream",
     "text": [
      "{'o', 'e'}\n"
     ]
    }
   ],
   "source": [
    "word = 'hello world!'\n",
    "vowels = set('aeiou')\n",
    "output= { wor for wor in word if wor in vowels}\n",
    "print(output)"
   ]
  },
  {
   "cell_type": "code",
   "execution_count": 32,
   "id": "530a0c51-73e2-4409-8992-421029c3f0b0",
   "metadata": {},
   "outputs": [
    {
     "name": "stdout",
     "output_type": "stream",
     "text": [
      "['e', 'o', 'o']\n"
     ]
    }
   ],
   "source": [
    "word = 'hello world!'\n",
    "vowels = set('aeiou')\n",
    "output= [ wor for wor in word if wor in vowels] # if we use list then we get multiple  characters.\n",
    "print(output)"
   ]
  },
  {
   "cell_type": "code",
   "execution_count": 17,
   "id": "5650cc95-7034-4b91-98c5-5c545ef3c471",
   "metadata": {},
   "outputs": [
    {
     "name": "stdout",
     "output_type": "stream",
     "text": [
      "18\n"
     ]
    }
   ],
   "source": [
    "def area(l,b,h):\n",
    "     x = 2*h *(l+b)\n",
    "     return x\n",
    "result = area(1,2,3)\n",
    "print(result)\n",
    "\n",
    "\n",
    "\n"
   ]
  },
  {
   "cell_type": "code",
   "execution_count": 25,
   "id": "0c9d1f43-2bc1-43fe-8516-6a0e2e99fd99",
   "metadata": {},
   "outputs": [
    {
     "name": "stdout",
     "output_type": "stream",
     "text": [
      "name: Rex\n",
      "age: 5\n",
      "type: dog\n"
     ]
    }
   ],
   "source": [
    "def describe_pet(**kwargs):\n",
    "   for key,value in kwargs.items():\n",
    "       print(f'{key}: {value}')\n",
    "   \n",
    "describe_pet(name=\"Rex\", age=5, type=\"dog\")"
   ]
  },
  {
   "cell_type": "markdown",
   "id": "8ad423d8-06c7-42e7-a15d-27b397df12f0",
   "metadata": {},
   "source": []
  },
  {
   "cell_type": "code",
   "execution_count": null,
   "id": "0f0adf47-bbee-4dd3-b230-ff07eb97114f",
   "metadata": {},
   "outputs": [],
   "source": []
  },
  {
   "cell_type": "code",
   "execution_count": null,
   "id": "91af01dc-c038-4869-bbcc-82c9d482b814",
   "metadata": {},
   "outputs": [],
   "source": []
  },
  {
   "cell_type": "code",
   "execution_count": null,
   "id": "148a08ea-c330-4d0c-ac1b-1bdafa0773cb",
   "metadata": {},
   "outputs": [],
   "source": []
  }
 ],
 "metadata": {
  "kernelspec": {
   "display_name": "Python 3 (ipykernel)",
   "language": "python",
   "name": "python3"
  },
  "language_info": {
   "codemirror_mode": {
    "name": "ipython",
    "version": 3
   },
   "file_extension": ".py",
   "mimetype": "text/x-python",
   "name": "python",
   "nbconvert_exporter": "python",
   "pygments_lexer": "ipython3",
   "version": "3.12.2"
  }
 },
 "nbformat": 4,
 "nbformat_minor": 5
}
