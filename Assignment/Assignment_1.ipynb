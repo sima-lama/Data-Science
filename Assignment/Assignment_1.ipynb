{
 "cells": [
  {
   "cell_type": "code",
   "execution_count": 1,
   "id": "dc386597-a370-4dd3-ae99-cb06bbd21679",
   "metadata": {},
   "outputs": [],
   "source": [
    "# 1 personal information\n"
   ]
  },
  {
   "cell_type": "code",
   "execution_count": 2,
   "id": "e8f9122a-623b-4720-a72d-cd296451e004",
   "metadata": {},
   "outputs": [
    {
     "name": "stdout",
     "output_type": "stream",
     "text": [
      "\"Hello! , my name is Alice and i am 30 years old.\"\n"
     ]
    }
   ],
   "source": [
    "name = 'Alice'\n",
    "age = 30\n",
    "print(f'\"Hello! , my name is {name} and i am {age} years old.\"')"
   ]
  },
  {
   "cell_type": "code",
   "execution_count": 3,
   "id": "e7ee59c1-20d0-4098-93b1-402b451e145b",
   "metadata": {},
   "outputs": [],
   "source": [
    "#2 favourite hobby "
   ]
  },
  {
   "cell_type": "code",
   "execution_count": 4,
   "id": "fee08ad6-845d-48ab-97b1-52585dea1a21",
   "metadata": {},
   "outputs": [
    {
     "name": "stdout",
     "output_type": "stream",
     "text": [
      "['travellling', 'reading', 'games', 'shopping']\n"
     ]
    }
   ],
   "source": [
    "hobby = ['travellling', 'reading', 'games']\n",
    "hobby.append('shopping')\n",
    "print(hobby)\n"
   ]
  },
  {
   "cell_type": "code",
   "execution_count": 5,
   "id": "8d54acc8-4c9f-4395-9111-36f9f993a51f",
   "metadata": {},
   "outputs": [],
   "source": [
    "# 3 "
   ]
  },
  {
   "cell_type": "code",
   "execution_count": 6,
   "id": "904c7aaf-8234-4be6-8099-60a582ae673e",
   "metadata": {},
   "outputs": [
    {
     "ename": "TypeError",
     "evalue": "'tuple' object does not support item assignment",
     "output_type": "error",
     "traceback": [
      "\u001b[1;31m---------------------------------------------------------------------------\u001b[0m",
      "\u001b[1;31mTypeError\u001b[0m                                 Traceback (most recent call last)",
      "Cell \u001b[1;32mIn[6], line 2\u001b[0m\n\u001b[0;32m      1\u001b[0m screen_dimensions \u001b[38;5;241m=\u001b[39m(\u001b[38;5;241m12\u001b[39m,\u001b[38;5;241m33\u001b[39m)\n\u001b[1;32m----> 2\u001b[0m \u001b[43mscreen_dimensions\u001b[49m\u001b[43m[\u001b[49m\u001b[38;5;241;43m0\u001b[39;49m\u001b[43m]\u001b[49m \u001b[38;5;241m=\u001b[39m \u001b[38;5;241m15\u001b[39m\n\u001b[0;32m      3\u001b[0m \u001b[38;5;28mprint\u001b[39m(screen_dimensions)\n\u001b[0;32m      4\u001b[0m \u001b[38;5;66;03m# tuple are immutable.it can't be modify.\u001b[39;00m\n",
      "\u001b[1;31mTypeError\u001b[0m: 'tuple' object does not support item assignment"
     ]
    }
   ],
   "source": [
    "screen_dimensions =(12,33)\n",
    "screen_dimensions[0] = 15\n",
    "print(screen_dimensions)\n",
    "# tuple are immutable.it can't be modify.\n",
    " "
   ]
  },
  {
   "cell_type": "code",
   "execution_count": null,
   "id": "178efc7d-8bb6-4e43-9940-b7c6f0b34305",
   "metadata": {},
   "outputs": [],
   "source": [
    "# 4 pet description"
   ]
  },
  {
   "cell_type": "code",
   "execution_count": 8,
   "id": "d629e857-3abe-420e-aa34-1af3764b9e9f",
   "metadata": {},
   "outputs": [
    {
     "name": "stdout",
     "output_type": "stream",
     "text": [
      "name: max\n",
      "color: red\n"
     ]
    }
   ],
   "source": [
    "pet = {\n",
    "    'type' : 'hybrid', \n",
    "    'name' : 'max', \n",
    "    'color' : 'red',\n",
    "     'age': 6\n",
    "}\n",
    "keys = ['name','color']\n",
    "for key in keys:\n",
    "    if key in pet:\n",
    "            print(f\"{key}: {pet[key]}\")\n",
    "    else:\n",
    "        print(f\"{keys}: Not found\")\n",
    "      "
   ]
  },
  {
   "cell_type": "code",
   "execution_count": 10,
   "id": "58df3d9a-986d-4491-a510-15e9edde9c85",
   "metadata": {},
   "outputs": [
    {
     "name": "stdout",
     "output_type": "stream",
     "text": [
      "Enter your age:  12\n"
     ]
    },
    {
     "name": "stdout",
     "output_type": "stream",
     "text": [
      "i am not an adult\n"
     ]
    }
   ],
   "source": [
    "age = int(input(\"Enter your age: \"))\n",
    "\n",
    "is_adult = age >= 18\n",
    "\n",
    "if is_adult:\n",
    "    print(\"i am an adult.\")\n",
    "else:\n",
    "    print(\"i am not an adult\")\n",
    "\n",
    "\n",
    "\n",
    "      "
   ]
  }
 ],
 "metadata": {
  "kernelspec": {
   "display_name": "Python 3 (ipykernel)",
   "language": "python",
   "name": "python3"
  },
  "language_info": {
   "codemirror_mode": {
    "name": "ipython",
    "version": 3
   },
   "file_extension": ".py",
   "mimetype": "text/x-python",
   "name": "python",
   "nbconvert_exporter": "python",
   "pygments_lexer": "ipython3",
   "version": "3.12.2"
  }
 },
 "nbformat": 4,
 "nbformat_minor": 5
}
