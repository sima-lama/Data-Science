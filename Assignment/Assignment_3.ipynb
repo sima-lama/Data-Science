{
 "cells": [
  {
   "cell_type": "markdown",
   "id": "0bf7e549-8822-48cb-b229-13fe7df886cb",
   "metadata": {},
   "source": [
    "# Problem Statement\n",
    "\n",
    "We want to build an online shopping cart system that allows users to add products to their cart, calculate the total cost, apply discounts, and generate an invoice. The system should include the following functionalities:\n",
    "\n",
    "- Adding products to the cart\n",
    "- Removing products from the cart\n",
    "- Calculating the total cost\n",
    "- Applying discounts based on user type\n",
    "- Generating an invoice\n",
    "\n",
    "### 1. Create the Product class\n",
    "\n",
    "We create a basic `Product` class with attributes for the product name and price."
   ]
  },
  {
   "cell_type": "code",
   "execution_count": 1,
   "id": "84a5c7ae-f943-4b07-972f-25eb6fff0ff6",
   "metadata": {},
   "outputs": [],
   "source": [
    "class Product:\n",
    "    def __init__(self, name, price, quantity):\n",
    "        self.name = name\n",
    "        self.price = price\n",
    "        self.quantity = quantity\n",
    "\n",
    "    def __repr__(self):\n",
    "        return self.name"
   ]
  },
  {
   "cell_type": "markdown",
   "id": "bef467de-a66e-4c86-bd90-b6e08c2e6414",
   "metadata": {},
   "source": [
    "### 2.  Implement the User class\n",
    "\n",
    "In this step, we create a `User` class with attributes for the user's name and whether they are a premium member. We then modify the `calculate_total_cost` method in the `ShoppingCart` class to apply a `10%` discount for premium users."
   ]
  },
  {
   "cell_type": "code",
   "execution_count": 2,
   "id": "154f839f-83b7-42f0-b64e-96312becd745",
   "metadata": {},
   "outputs": [],
   "source": [
    "class User:\n",
    "     def __init__(self, name, premium_member=False):\n",
    "        self.name = name\n",
    "        self.premium_member = premium_member\n",
    "    \n",
    "\n",
    "        "
   ]
  },
  {
   "cell_type": "markdown",
   "id": "06d90e07-82a4-4853-9ca4-0ad053db1f4c",
   "metadata": {},
   "source": [
    "### 3. Create the ShoppingCart class\n",
    "\n",
    "In this step, we create a `ShoppingCart` class with methods for adding and removing products from the cart, as well as calculating the total cost of the items in the car\n",
    "\n",
    "Here, we defined a decorator `discount_10_percent` that applies a `10%` discount to the total cost. We then apply this decorator to the `calculate_total_cost` method in the `ShoppingCart` class.t."
   ]
  },
  {
   "cell_type": "code",
   "execution_count": 3,
   "id": "d4f40364-dd7e-41c3-8192-f4119d0a03fc",
   "metadata": {},
   "outputs": [],
   "source": [
    "def discount_10_percent(func):\n",
    "    def wrapper(cart):\n",
    "\n",
    "        print(f'******Invoice of {cart.user.name}*******')\n",
    "        for item, quantity, price in cart.list:\n",
    "            print(f' {item.name}: {price}')\n",
    "        print('-' * 50)\n",
    "        total_cost = func(cart)\n",
    "        if cart.user.premium_member:\n",
    "            print(f' Total_cost : {total_cost}')\n",
    "            discount = 0.10 * total_cost\n",
    "           \n",
    "            print(f' Discount : {discount}')\n",
    "            print('-' * 50)\n",
    "        \n",
    "        else:\n",
    "            print(f' Total_cost : {total_cost}')\n",
    "            print('-' * 50)\n",
    "        return total_cost\n",
    "    return wrapper\n",
    "class ShoppingCart():\n",
    "    def __init__(self, user, list):\n",
    "        self.user = user\n",
    "        self.list = list\n",
    "    \n",
    "    def add_product(self, product, quantity, price):\n",
    "        self.list.append((product, quantity, price))\n",
    "        return self.list\n",
    "\n",
    "    def remove_product(self, product, quantity):\n",
    "        self.list = [(p, q) for p, q in self.list if p != product or q != quantity]\n",
    "        return self.list\n",
    "\n",
    "    @discount_10_percent\n",
    "    def calculate_total_cost(self):\n",
    "        total_cost = 0\n",
    "        for item, quantity, price in self.list:\n",
    "            total_cost += price * quantity\n",
    "        return total_cost"
   ]
  },
  {
   "cell_type": "markdown",
   "id": "9d6b2612-884c-4918-9ec7-1baf14bbb250",
   "metadata": {},
   "source": [
    "### 4. Testing the functionality\n",
    "\n",
    "Now that we have implemented the necessary classes and methods, let's test our online shopping cart system:"
   ]
  },
  {
   "cell_type": "code",
   "execution_count": 1,
   "id": "9845270a-d97b-4d53-8b36-c5f0a2688058",
   "metadata": {},
   "outputs": [
    {
     "ename": "NameError",
     "evalue": "name 'User' is not defined",
     "output_type": "error",
     "traceback": [
      "\u001b[1;31m---------------------------------------------------------------------------\u001b[0m",
      "\u001b[1;31mNameError\u001b[0m                                 Traceback (most recent call last)",
      "Cell \u001b[1;32mIn[1], line 1\u001b[0m\n\u001b[1;32m----> 1\u001b[0m user_name \u001b[38;5;241m=\u001b[39m \u001b[43mUser\u001b[49m(\u001b[38;5;124m\"\u001b[39m\u001b[38;5;124mRam \u001b[39m\u001b[38;5;124m\"\u001b[39m, premium_member\u001b[38;5;241m=\u001b[39m\u001b[38;5;28;01mTrue\u001b[39;00m)\n\u001b[0;32m      3\u001b[0m product1 \u001b[38;5;241m=\u001b[39m Product(\u001b[38;5;124m'\u001b[39m\u001b[38;5;124mcomputer\u001b[39m\u001b[38;5;124m'\u001b[39m, \u001b[38;5;241m40000\u001b[39m,\u001b[38;5;241m3\u001b[39m)\n\u001b[0;32m      4\u001b[0m product2 \u001b[38;5;241m=\u001b[39m Product(\u001b[38;5;124m'\u001b[39m\u001b[38;5;124mphone\u001b[39m\u001b[38;5;124m'\u001b[39m, \u001b[38;5;241m20000\u001b[39m,\u001b[38;5;241m4\u001b[39m)\n",
      "\u001b[1;31mNameError\u001b[0m: name 'User' is not defined"
     ]
    }
   ],
   "source": [
    "user_name = User(\"Ram \", premium_member=True)\n",
    "\n",
    "product1 = Product('computer', 40000,3)\n",
    "product2 = Product('phone', 20000,4)\n",
    "\n",
    "cart1 = ShoppingCart(user_name, [(product1, 3, 40000), (product2, 2, 20000)])\n"
   ]
  },
  {
   "cell_type": "markdown",
   "id": "bbc1d12b-2713-4f92-9bd1-b1252315161c",
   "metadata": {},
   "source": [
    "### 5. Generating Invoice for a given cart\n"
   ]
  },
  {
   "cell_type": "code",
   "execution_count": 5,
   "id": "8d55e143-2f39-49b9-845f-24c589222846",
   "metadata": {},
   "outputs": [
    {
     "name": "stdout",
     "output_type": "stream",
     "text": [
      "******Invoice of Ram *******\n",
      " computer: 40000\n",
      " phone: 20000\n",
      "--------------------------------------------------\n",
      " Total_cost : 160000\n",
      " Discount : 16000.0\n",
      "--------------------------------------------------\n",
      " Total cost: 160000\n"
     ]
    }
   ],
   "source": [
    "cart1_total_cost = cart1.calculate_total_cost()\n",
    "print(f\" Total cost: {cart1_total_cost}\") sssssss"
   ]
  },
  {
   "cell_type": "code",
   "execution_count": null,
   "id": "a9b072ad-6545-497e-bf85-1440218b6905",
   "metadata": {},
   "outputs": [],
   "source": []
  }
 ],
 "metadata": {
  "kernelspec": {
   "display_name": "Python 3 (ipykernel)",
   "language": "python",
   "name": "python3"
  },
  "language_info": {
   "codemirror_mode": {
    "name": "ipython",
    "version": 3
   },
   "file_extension": ".py",
   "mimetype": "text/x-python",
   "name": "python",
   "nbconvert_exporter": "python",
   "pygments_lexer": "ipython3",
   "version": "3.12.2"
  }
 },
 "nbformat": 4,
 "nbformat_minor": 5
}
