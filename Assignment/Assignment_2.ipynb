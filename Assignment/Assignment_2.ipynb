{
 "cells": [
  {
   "cell_type": "markdown",
   "id": "b8231bc6-0a74-45cc-afa1-602663ceaec8",
   "metadata": {},
   "source": [
    "### Question : Book Keeper\r\n",
    "\r\n",
    "Following the data below , complete the given Tasks :\n"
   ]
  },
  {
   "cell_type": "markdown",
   "id": "d9061e50-a195-4a37-b74d-2180b6df6064",
   "metadata": {},
   "source": [
    "**Task 01**: Create a Book Filtering Function\r\n",
    "\r\n",
    "Given the list books as shown below, write a Python function named `filter_books` that filters books based on *genre* and *publication year*. The function should take two parameters: `genre (a string)` and `year (an integer)`. It should return a list of book titles that match the given genre and have been **published on or after** the specified year.\r\n",
    "\r\n",
    "- Example usage : `print(filter_books(\"Fiction\", 1980))`\r\n",
    "- Expected output: `['The Alchemist', 'The Catcher in the Rye']`\r\n",
    "\r\n",
    "*Try to use List Comprehension with If condition*"
   ]
  },
  {
   "cell_type": "code",
   "execution_count": 1,
   "id": "284a1fd0-9c6c-4cf3-9803-4e9b78cb70d8",
   "metadata": {},
   "outputs": [],
   "source": [
    "# A list of tuples, where each tuple contains information about a book: (title, genre, year_published, times_borrowed).\n",
    "books = [\n",
    "    (\"The Alchemist\", \"Fiction\", 1988, 250),\n",
    "    (\"The Da Vinci Code\", \"Mystery\", 2003, 300),\n",
    "    (\"A Brief History of Time\", \"Science\", 1988, 150),\n",
    "    (\"The Theory of Everything\", \"Science\", 2002, 100),\n",
    "    (\"Pride and Prejudice\", \"Fiction\", 1813, 200),\n",
    "    (\"To Kill a Mockingbird\", \"Fiction\", 1960, 180),\n",
    "    (\"The Catcher in the Rye\", \"Fiction\", 1951, 220),\n",
    "    (\"Angels & Demons\", \"Mystery\", 2000, 210),\n",
    "    (\"The Grand Design\", \"Science\", 2010, 90),\n",
    "    (\"1984\", \"Fiction\", 1949, 190)\n",
    "]"
   ]
  },
  {
   "cell_type": "code",
   "execution_count": 15,
   "id": "18c09428-bbb1-4f13-a429-49b31c76a942",
   "metadata": {},
   "outputs": [
    {
     "name": "stdout",
     "output_type": "stream",
     "text": [
      "['The Alchemist', 'To Kill a Mockingbird', 'The Catcher in the Rye']\n"
     ]
    }
   ],
   "source": [
    "def filter_books(genre, year):\n",
    "    result = [book[0] for book in books if book[1] == genre and book[2] >= year]\n",
    "    return result\n",
    "print(filter_books(\"Fiction\", 1950))"
   ]
  },
  {
   "cell_type": "markdown",
   "id": "2f904ec8-6959-457c-b584-d7a999f14fb5",
   "metadata": {},
   "source": [
    "**Task 02** : Write a Python function named `borrowing_stats` that uses dictionary comprehension to create and return a dictionary. This dictionary should map each book's title to the number of times it has been borrowed, but only include books from the \"`Fiction`\" genre.\r\n",
    "\r\n",
    "\r\n",
    "- Example usage : `print(borrowing_stats(books))`\r\n",
    "- Expected output: `{'The Alchemist': 250, 'Pride and Prejudice': 200, 'To Kill a Mockingbird': 180, 'The Catcher in the Rye': 220, '1984': 190}`"
   ]
  },
  {
   "cell_type": "code",
   "execution_count": 25,
   "id": "fc21d38b-5723-476a-afaa-523fd9a1877d",
   "metadata": {},
   "outputs": [
    {
     "name": "stdout",
     "output_type": "stream",
     "text": [
      "{'The Alchemist': 1988, 'Pride and Prejudice': 1813, 'To Kill a Mockingbird': 1960, 'The Catcher in the Rye': 1951, '1984': 1949}\n"
     ]
    }
   ],
   "source": [
    "def borrowing_stats(books):\n",
    "    list = {book[0]: book[2] for book in books if book[1] == 'Fiction'}\n",
    "    return list\n",
    "print(borrowing_stats(books))\n"
   ]
  },
  {
   "cell_type": "markdown",
   "id": "f0342437-2381-4d6b-b500-d45bfc7ec4b6",
   "metadata": {},
   "source": [
    "**Task 03** : Write a Python program that uses a lambda expression to sort this list by publication year in ascending order. Print the sorted list of books.\r\n",
    "\r\n",
    "*Try using a lambda expression with the sorted() function*"
   ]
  },
  {
   "cell_type": "code",
   "execution_count": 27,
   "id": "2161ffc1-c64f-4a1f-89e1-680ae4e1a694",
   "metadata": {},
   "outputs": [
    {
     "name": "stdout",
     "output_type": "stream",
     "text": [
      "('Pride and Prejudice', 'Fiction', 1813, 200)\n",
      "('1984', 'Fiction', 1949, 190)\n",
      "('The Catcher in the Rye', 'Fiction', 1951, 220)\n",
      "('To Kill a Mockingbird', 'Fiction', 1960, 180)\n",
      "('The Alchemist', 'Fiction', 1988, 250)\n",
      "('A Brief History of Time', 'Science', 1988, 150)\n",
      "('Angels & Demons', 'Mystery', 2000, 210)\n",
      "('The Theory of Everything', 'Science', 2002, 100)\n",
      "('The Da Vinci Code', 'Mystery', 2003, 300)\n",
      "('The Grand Design', 'Science', 2010, 90)\n"
     ]
    }
   ],
   "source": [
    "\n",
    "sorted_books = sorted(books,key=lambda x:x[2])\n",
    "\n",
    "for list in sorted_book:\n",
    "    print(list)"
   ]
  },
  {
   "cell_type": "markdown",
   "id": "6197ca66-5517-4b4a-aa61-03b761ffd2a3",
   "metadata": {},
   "source": [
    "### Question: File Read and Write\n",
    "**Write a Program that Uses Functions `write_to_file` and `read_from_file`**:\n",
    "- `write_to_file(filename, content)`: Writes `content` to a file named `filename`. If the file doesn't exist, it should be created.\n",
    "- `read_from_file(filename)`: Reads and prints the content of a file named `filename`.\n",
    "Call `write_to_file` to write \"Hello, Python!\" to a file named \"greetings.txt\", then call `read_from_file` to read and print the content of this file."
   ]
  },
  {
   "cell_type": "code",
   "execution_count": 30,
   "id": "7f07a8a1-259a-44b2-b5c0-da155c4a95a5",
   "metadata": {},
   "outputs": [
    {
     "name": "stdout",
     "output_type": "stream",
     "text": [
      "Hello, Python!\n"
     ]
    }
   ],
   "source": [
    "def write_to_file(filename, content):\n",
    "    with open(filename, 'w') as file:\n",
    "        file.write(content)\n",
    "\n",
    "def read_from_file(filename):\n",
    "    with open(filename, 'r') as file:\n",
    "        content = file.read()\n",
    "        print(content)\n",
    "\n",
    "write_to_file(\"greetings.txt\", \"Hello, Python!\")\n",
    "read_from_file(\"greetings.txt\")"
   ]
  },
  {
   "cell_type": "code",
   "execution_count": null,
   "id": "23830262-9f2d-4191-af90-835f469b034b",
   "metadata": {},
   "outputs": [],
   "source": []
  }
 ],
 "metadata": {
  "kernelspec": {
   "display_name": "Python 3 (ipykernel)",
   "language": "python",
   "name": "python3"
  },
  "language_info": {
   "codemirror_mode": {
    "name": "ipython",
    "version": 3
   },
   "file_extension": ".py",
   "mimetype": "text/x-python",
   "name": "python",
   "nbconvert_exporter": "python",
   "pygments_lexer": "ipython3",
   "version": "3.12.2"
  }
 },
 "nbformat": 4,
 "nbformat_minor": 5
}
